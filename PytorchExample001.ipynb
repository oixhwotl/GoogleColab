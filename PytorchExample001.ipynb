{
  "nbformat": 4,
  "nbformat_minor": 0,
  "metadata": {
    "colab": {
      "name": "PytorchExample001.ipynb",
      "provenance": [],
      "collapsed_sections": [],
      "authorship_tag": "ABX9TyOopsidKrdSyKgXaP3Nfd8a",
      "include_colab_link": true
    },
    "kernelspec": {
      "name": "python3",
      "display_name": "Python 3"
    },
    "widgets": {
      "application/vnd.jupyter.widget-state+json": {
        "27d4da2ed9fa4c5d8e8b437ae1b23f53": {
          "model_module": "@jupyter-widgets/controls",
          "model_name": "HBoxModel",
          "state": {
            "_view_name": "HBoxView",
            "_dom_classes": [],
            "_model_name": "HBoxModel",
            "_view_module": "@jupyter-widgets/controls",
            "_model_module_version": "1.5.0",
            "_view_count": null,
            "_view_module_version": "1.5.0",
            "box_style": "",
            "layout": "IPY_MODEL_58105c96ac1e4c5f9734df23ae09502f",
            "_model_module": "@jupyter-widgets/controls",
            "children": [
              "IPY_MODEL_0d03a0ab9eb149b285c0ad046d5cda8c",
              "IPY_MODEL_900bee1fc42b4f039fc0a12c2d2f6a17"
            ]
          }
        },
        "58105c96ac1e4c5f9734df23ae09502f": {
          "model_module": "@jupyter-widgets/base",
          "model_name": "LayoutModel",
          "state": {
            "_view_name": "LayoutView",
            "grid_template_rows": null,
            "right": null,
            "justify_content": null,
            "_view_module": "@jupyter-widgets/base",
            "overflow": null,
            "_model_module_version": "1.2.0",
            "_view_count": null,
            "flex_flow": null,
            "width": null,
            "min_width": null,
            "border": null,
            "align_items": null,
            "bottom": null,
            "_model_module": "@jupyter-widgets/base",
            "top": null,
            "grid_column": null,
            "overflow_y": null,
            "overflow_x": null,
            "grid_auto_flow": null,
            "grid_area": null,
            "grid_template_columns": null,
            "flex": null,
            "_model_name": "LayoutModel",
            "justify_items": null,
            "grid_row": null,
            "max_height": null,
            "align_content": null,
            "visibility": null,
            "align_self": null,
            "height": null,
            "min_height": null,
            "padding": null,
            "grid_auto_rows": null,
            "grid_gap": null,
            "max_width": null,
            "order": null,
            "_view_module_version": "1.2.0",
            "grid_template_areas": null,
            "object_position": null,
            "object_fit": null,
            "grid_auto_columns": null,
            "margin": null,
            "display": null,
            "left": null
          }
        },
        "0d03a0ab9eb149b285c0ad046d5cda8c": {
          "model_module": "@jupyter-widgets/controls",
          "model_name": "IntProgressModel",
          "state": {
            "_view_name": "ProgressView",
            "style": "IPY_MODEL_6495f826d9ec455d923381e9f61763a5",
            "_dom_classes": [],
            "description": "",
            "_model_name": "IntProgressModel",
            "bar_style": "success",
            "max": 1,
            "_view_module": "@jupyter-widgets/controls",
            "_model_module_version": "1.5.0",
            "value": 1,
            "_view_count": null,
            "_view_module_version": "1.5.0",
            "orientation": "horizontal",
            "min": 0,
            "description_tooltip": null,
            "_model_module": "@jupyter-widgets/controls",
            "layout": "IPY_MODEL_384fe6143dd744569737bd05936d90e8"
          }
        },
        "900bee1fc42b4f039fc0a12c2d2f6a17": {
          "model_module": "@jupyter-widgets/controls",
          "model_name": "HTMLModel",
          "state": {
            "_view_name": "HTMLView",
            "style": "IPY_MODEL_43f154db90ea4157a677d7e7012eb4b8",
            "_dom_classes": [],
            "description": "",
            "_model_name": "HTMLModel",
            "placeholder": "​",
            "_view_module": "@jupyter-widgets/controls",
            "_model_module_version": "1.5.0",
            "value": "170500096it [00:02, 72616852.11it/s]",
            "_view_count": null,
            "_view_module_version": "1.5.0",
            "description_tooltip": null,
            "_model_module": "@jupyter-widgets/controls",
            "layout": "IPY_MODEL_020410fc66fb46278a7d0e715f63f3e9"
          }
        },
        "6495f826d9ec455d923381e9f61763a5": {
          "model_module": "@jupyter-widgets/controls",
          "model_name": "ProgressStyleModel",
          "state": {
            "_view_name": "StyleView",
            "_model_name": "ProgressStyleModel",
            "description_width": "",
            "_view_module": "@jupyter-widgets/base",
            "_model_module_version": "1.5.0",
            "_view_count": null,
            "_view_module_version": "1.2.0",
            "bar_color": null,
            "_model_module": "@jupyter-widgets/controls"
          }
        },
        "384fe6143dd744569737bd05936d90e8": {
          "model_module": "@jupyter-widgets/base",
          "model_name": "LayoutModel",
          "state": {
            "_view_name": "LayoutView",
            "grid_template_rows": null,
            "right": null,
            "justify_content": null,
            "_view_module": "@jupyter-widgets/base",
            "overflow": null,
            "_model_module_version": "1.2.0",
            "_view_count": null,
            "flex_flow": null,
            "width": null,
            "min_width": null,
            "border": null,
            "align_items": null,
            "bottom": null,
            "_model_module": "@jupyter-widgets/base",
            "top": null,
            "grid_column": null,
            "overflow_y": null,
            "overflow_x": null,
            "grid_auto_flow": null,
            "grid_area": null,
            "grid_template_columns": null,
            "flex": null,
            "_model_name": "LayoutModel",
            "justify_items": null,
            "grid_row": null,
            "max_height": null,
            "align_content": null,
            "visibility": null,
            "align_self": null,
            "height": null,
            "min_height": null,
            "padding": null,
            "grid_auto_rows": null,
            "grid_gap": null,
            "max_width": null,
            "order": null,
            "_view_module_version": "1.2.0",
            "grid_template_areas": null,
            "object_position": null,
            "object_fit": null,
            "grid_auto_columns": null,
            "margin": null,
            "display": null,
            "left": null
          }
        },
        "43f154db90ea4157a677d7e7012eb4b8": {
          "model_module": "@jupyter-widgets/controls",
          "model_name": "DescriptionStyleModel",
          "state": {
            "_view_name": "StyleView",
            "_model_name": "DescriptionStyleModel",
            "description_width": "",
            "_view_module": "@jupyter-widgets/base",
            "_model_module_version": "1.5.0",
            "_view_count": null,
            "_view_module_version": "1.2.0",
            "_model_module": "@jupyter-widgets/controls"
          }
        },
        "020410fc66fb46278a7d0e715f63f3e9": {
          "model_module": "@jupyter-widgets/base",
          "model_name": "LayoutModel",
          "state": {
            "_view_name": "LayoutView",
            "grid_template_rows": null,
            "right": null,
            "justify_content": null,
            "_view_module": "@jupyter-widgets/base",
            "overflow": null,
            "_model_module_version": "1.2.0",
            "_view_count": null,
            "flex_flow": null,
            "width": null,
            "min_width": null,
            "border": null,
            "align_items": null,
            "bottom": null,
            "_model_module": "@jupyter-widgets/base",
            "top": null,
            "grid_column": null,
            "overflow_y": null,
            "overflow_x": null,
            "grid_auto_flow": null,
            "grid_area": null,
            "grid_template_columns": null,
            "flex": null,
            "_model_name": "LayoutModel",
            "justify_items": null,
            "grid_row": null,
            "max_height": null,
            "align_content": null,
            "visibility": null,
            "align_self": null,
            "height": null,
            "min_height": null,
            "padding": null,
            "grid_auto_rows": null,
            "grid_gap": null,
            "max_width": null,
            "order": null,
            "_view_module_version": "1.2.0",
            "grid_template_areas": null,
            "object_position": null,
            "object_fit": null,
            "grid_auto_columns": null,
            "margin": null,
            "display": null,
            "left": null
          }
        }
      }
    }
  },
  "cells": [
    {
      "cell_type": "markdown",
      "metadata": {
        "id": "view-in-github",
        "colab_type": "text"
      },
      "source": [
        "<a href=\"https://colab.research.google.com/github/oixhwotl/GoogleColab/blob/master/PytorchExample001.ipynb\" target=\"_parent\"><img src=\"https://colab.research.google.com/assets/colab-badge.svg\" alt=\"Open In Colab\"/></a>"
      ]
    },
    {
      "cell_type": "markdown",
      "metadata": {
        "id": "CYpDYHh78Dh6",
        "colab_type": "text"
      },
      "source": [
        "Modern Deep Convolutional Neural Networks with PyTorch\n",
        "001 \n"
      ]
    },
    {
      "cell_type": "code",
      "metadata": {
        "id": "xNq0IyjG8C6v",
        "colab_type": "code",
        "colab": {}
      },
      "source": [
        "import torch\n",
        "import torch.nn as nn\n",
        "import torch.optim as optim\n",
        "import torch.nn.functional as F\n",
        "import torch.backends.cudnn as cudnn\n",
        "\n",
        "import torchvision\n",
        "import torchvision.transforms as transforms\n",
        "\n",
        "import matplotlib.pyplot as plt\n",
        "import numpy as np"
      ],
      "execution_count": 0,
      "outputs": []
    },
    {
      "cell_type": "code",
      "metadata": {
        "id": "M5kvrqOX8fER",
        "colab_type": "code",
        "outputId": "3ff887ac-9f44-4a52-e580-659b5e2386d0",
        "colab": {
          "base_uri": "https://localhost:8080/",
          "height": 137,
          "referenced_widgets": [
            "27d4da2ed9fa4c5d8e8b437ae1b23f53",
            "58105c96ac1e4c5f9734df23ae09502f",
            "0d03a0ab9eb149b285c0ad046d5cda8c",
            "900bee1fc42b4f039fc0a12c2d2f6a17",
            "6495f826d9ec455d923381e9f61763a5",
            "384fe6143dd744569737bd05936d90e8",
            "43f154db90ea4157a677d7e7012eb4b8",
            "020410fc66fb46278a7d0e715f63f3e9"
          ]
        }
      },
      "source": [
        "transform = transforms.Compose([\n",
        "  transforms.ToTensor(),\n",
        "  transforms.Normalize((0.5, 0.5, 0.5), (0.5, 0.5, 0.5))\n",
        "])\n",
        "\n",
        "trainset = torchvision.datasets.CIFAR10(root='data', train=True, download=True, transform=transform)\n",
        "trainloader = torch.utils.data.DataLoader(trainset, batch_size=4, shuffle=True, num_workers=2)\n",
        "\n",
        "testset = torchvision.datasets.CIFAR10(root='data', train=False, download=True, transform=transform)\n",
        "testloader = torch.utils.data.DataLoader(testset, batch_size=4, shuffle=False, num_workers=2)\n",
        "\n",
        "classes = ('plane', 'car', 'bird', 'cat', 'deer', 'dog', 'frog', 'horse', 'ship', 'truck')"
      ],
      "execution_count": 0,
      "outputs": [
        {
          "output_type": "stream",
          "text": [
            "Downloading https://www.cs.toronto.edu/~kriz/cifar-10-python.tar.gz to data/cifar-10-python.tar.gz\n"
          ],
          "name": "stdout"
        },
        {
          "output_type": "display_data",
          "data": {
            "application/vnd.jupyter.widget-view+json": {
              "model_id": "27d4da2ed9fa4c5d8e8b437ae1b23f53",
              "version_minor": 0,
              "version_major": 2
            },
            "text/plain": [
              "HBox(children=(IntProgress(value=1, bar_style='info', max=1), HTML(value='')))"
            ]
          },
          "metadata": {
            "tags": []
          }
        },
        {
          "output_type": "stream",
          "text": [
            "\n",
            "Extracting data/cifar-10-python.tar.gz to data\n",
            "Files already downloaded and verified\n"
          ],
          "name": "stdout"
        }
      ]
    },
    {
      "cell_type": "code",
      "metadata": {
        "id": "5T_W-x0U9Ty2",
        "colab_type": "code",
        "outputId": "b5d244bb-3dab-45bc-bdea-8a03004bdeab",
        "colab": {
          "base_uri": "https://localhost:8080/",
          "height": 212
        }
      },
      "source": [
        "def imshow(img):\n",
        "  plt.figure(figsize=(10, 10))\n",
        "  img = img / 2 + 0.5\n",
        "  npimg = img.numpy()\n",
        "  plt.imshow(np.transpose(npimg, (1, 2, 0)))\n",
        "  plt.show()\n",
        "\n",
        "# get some random training images\n",
        "dataiter = iter(trainloader)\n",
        "images, labels = dataiter.next()\n",
        "\n",
        "# show images\n",
        "imshow(torchvision.utils.make_grid(images))\n",
        "# print labels\n",
        "print(' '.join('%5s' % classes[labels[j]] for j in range(4)))\n"
      ],
      "execution_count": 0,
      "outputs": [
        {
          "output_type": "display_data",
          "data": {
            "image/png": "[encoded data removed]",
            "text/plain": [
              "<Figure size 720x720 with 1 Axes>"
            ]
          },
          "metadata": {
            "tags": []
          }
        },
        {
          "output_type": "stream",
          "text": [
            "truck  frog   car   cat\n"
          ],
          "name": "stdout"
        }
      ]
    },
    {
      "cell_type": "code",
      "metadata": {
        "id": "xfCrDeoG9_Wt",
        "colab_type": "code",
        "colab": {}
      },
      "source": [
        "class LinearClassifier(nn.Module):\n",
        "  def __init__(self, n_input_neurons, n_output_neurons):\n",
        "    super().__init__()\n",
        "    self.linear = nn.Linear(n_input_neurons, n_output_neurons)\n",
        "\n",
        "  def forward(self, x):\n",
        "    # x has shape [batch_size, 3, height, width]\n",
        "    batch_size = x.shape[0]\n",
        "    x = x.view(batch_size, -1)\n",
        "    return self.linear(x)"
      ],
      "execution_count": 0,
      "outputs": []
    },
    {
      "cell_type": "code",
      "metadata": {
        "id": "ThV1t2QSB9XS",
        "colab_type": "code",
        "colab": {}
      },
      "source": [
        "class MultiLinearClassifier(nn.Module):\n",
        "  def __init__(self, n_input_neurons, n_output_neurons):\n",
        "    super().__init__()\n",
        "\n",
        "    self.main = nn.Sequential(\n",
        "        nn.Linear(n_input_neurons, 256),\n",
        "        nn.LeakyReLU(negative_slope=0.2, inplace=True),\n",
        "        nn.Linear(256, 128),\n",
        "        nn.LeakyReLU(negative_slope=0.2, inplace=True),\n",
        "        nn.Linear(128, n_output_neurons)\n",
        "    )\n",
        "\n",
        "  def forward(self, x):\n",
        "    # x has shape [batch_size, 3, height, width]\n",
        "    batch_size = x.shape[0]\n",
        "    x = x.view(batch_size, -1)\n",
        "    return self.main(x)"
      ],
      "execution_count": 0,
      "outputs": []
    },
    {
      "cell_type": "code",
      "metadata": {
        "id": "I8fMKFyE-qgy",
        "colab_type": "code",
        "outputId": "f770cdab-83b6-4a1b-85dd-65e221306cc4",
        "colab": {
          "base_uri": "https://localhost:8080/",
          "height": 34
        }
      },
      "source": [
        "height, width = images.shape[2:]\n",
        "height, width"
      ],
      "execution_count": 0,
      "outputs": [
        {
          "output_type": "execute_result",
          "data": {
            "text/plain": [
              "(32, 32)"
            ]
          },
          "metadata": {
            "tags": []
          },
          "execution_count": 6
        }
      ]
    },
    {
      "cell_type": "code",
      "metadata": {
        "id": "qHD5qV3m-zf2",
        "colab_type": "code",
        "colab": {}
      },
      "source": [
        "net = LinearClassifier(n_input_neurons = 3 * height * width, n_output_neurons= 10)#.cuda()\n",
        "net2 = MultiLinearClassifier(n_input_neurons = 3 * height * width, n_output_neurons= 10)#.cuda()"
      ],
      "execution_count": 0,
      "outputs": []
    },
    {
      "cell_type": "code",
      "metadata": {
        "id": "zUobSbAw_Yem",
        "colab_type": "code",
        "colab": {}
      },
      "source": [
        "criterion = nn.CrossEntropyLoss()\n",
        "optimizer = optim.Adam(net.parameters(), lr=0.001)"
      ],
      "execution_count": 0,
      "outputs": []
    },
    {
      "cell_type": "code",
      "metadata": {
        "id": "vSD4KIFv_gCt",
        "colab_type": "code",
        "outputId": "00aa3bb9-055c-4c59-d1f0-ec5f269a0455",
        "colab": {
          "base_uri": "https://localhost:8080/",
          "height": 544
        }
      },
      "source": [
        "for epoch in range(5):\n",
        "  running_loss = 0.0\n",
        "  for i, data in enumerate(trainloader, 0):\n",
        "    images, labels = data\n",
        "    #images, labels = images.cuda(), labels.cuda()\n",
        "\n",
        "    # gradients to zero\n",
        "    optimizer.zero_grad()\n",
        "\n",
        "    # forward pass + loss\n",
        "    output = net(images)\n",
        "    loss = criterion(output, labels)\n",
        "\n",
        "    loss.backward()\n",
        "    optimizer.step()\n",
        "\n",
        "    # print statistics\n",
        "    running_loss += loss.item()\n",
        "    if i % 2000 == 1999:\n",
        "      print('[%d, %5d] loss: %.3f' % (epoch+1, i+1, running_loss / 2000))\n",
        "      running_loss = 0.0\n",
        "\n",
        "print('Finish training')"
      ],
      "execution_count": 0,
      "outputs": [
        {
          "output_type": "stream",
          "text": [
            "[1,  2000] loss: 2.332\n",
            "[1,  4000] loss: 2.366\n",
            "[1,  6000] loss: 2.321\n",
            "[1,  8000] loss: 2.292\n",
            "[1, 10000] loss: 2.334\n",
            "[1, 12000] loss: 2.327\n",
            "[2,  2000] loss: 2.234\n",
            "[2,  4000] loss: 2.269\n",
            "[2,  6000] loss: 2.266\n",
            "[2,  8000] loss: 2.325\n",
            "[2, 10000] loss: 2.264\n",
            "[2, 12000] loss: 2.349\n",
            "[3,  2000] loss: 2.231\n",
            "[3,  4000] loss: 2.262\n",
            "[3,  6000] loss: 2.283\n",
            "[3,  8000] loss: 2.276\n",
            "[3, 10000] loss: 2.282\n",
            "[3, 12000] loss: 2.288\n",
            "[4,  2000] loss: 2.205\n",
            "[4,  4000] loss: 2.229\n",
            "[4,  6000] loss: 2.264\n",
            "[4,  8000] loss: 2.252\n",
            "[4, 10000] loss: 2.268\n",
            "[4, 12000] loss: 2.278\n",
            "[5,  2000] loss: 2.208\n",
            "[5,  4000] loss: 2.240\n",
            "[5,  6000] loss: 2.269\n",
            "[5,  8000] loss: 2.241\n",
            "[5, 10000] loss: 2.257\n",
            "[5, 12000] loss: 2.247\n",
            "Finish training\n"
          ],
          "name": "stdout"
        }
      ]
    },
    {
      "cell_type": "code",
      "metadata": {
        "id": "srd9oLW9Cr4J",
        "colab_type": "code",
        "outputId": "263cc09e-7d1f-4f44-a2fe-bf6da1b73767",
        "colab": {
          "base_uri": "https://localhost:8080/",
          "height": 544
        }
      },
      "source": [
        "for epoch in range(5):\n",
        "  running_loss = 0.0\n",
        "  for i, data in enumerate(trainloader, 0):\n",
        "    images, labels = data\n",
        "    #images, labels = images.cuda(), labels.cuda()\n",
        "\n",
        "    # gradients to zero\n",
        "    optimizer.zero_grad()\n",
        "\n",
        "    # forward pass + loss\n",
        "    output = net2(images)\n",
        "    loss = criterion(output, labels)\n",
        "\n",
        "    loss.backward()\n",
        "    optimizer.step()\n",
        "\n",
        "    # print statistics\n",
        "    running_loss += loss.item()\n",
        "    if i % 2000 == 1999:\n",
        "      print('[%d, %5d] loss: %.3f' % (epoch+1, i+1, running_loss / 2000))\n",
        "      running_loss = 0.0\n",
        "\n",
        "print('Finish training')"
      ],
      "execution_count": 0,
      "outputs": [
        {
          "output_type": "stream",
          "text": [
            "[1,  2000] loss: 2.305\n",
            "[1,  4000] loss: 2.305\n",
            "[1,  6000] loss: 2.305\n",
            "[1,  8000] loss: 2.305\n",
            "[1, 10000] loss: 2.305\n",
            "[1, 12000] loss: 2.305\n",
            "[2,  2000] loss: 2.305\n",
            "[2,  4000] loss: 2.305\n",
            "[2,  6000] loss: 2.305\n",
            "[2,  8000] loss: 2.305\n",
            "[2, 10000] loss: 2.305\n",
            "[2, 12000] loss: 2.304\n",
            "[3,  2000] loss: 2.304\n",
            "[3,  4000] loss: 2.304\n",
            "[3,  6000] loss: 2.305\n",
            "[3,  8000] loss: 2.305\n",
            "[3, 10000] loss: 2.305\n",
            "[3, 12000] loss: 2.305\n",
            "[4,  2000] loss: 2.305\n",
            "[4,  4000] loss: 2.305\n",
            "[4,  6000] loss: 2.305\n",
            "[4,  8000] loss: 2.305\n",
            "[4, 10000] loss: 2.304\n",
            "[4, 12000] loss: 2.305\n",
            "[5,  2000] loss: 2.305\n",
            "[5,  4000] loss: 2.305\n",
            "[5,  6000] loss: 2.305\n",
            "[5,  8000] loss: 2.305\n",
            "[5, 10000] loss: 2.305\n",
            "[5, 12000] loss: 2.305\n",
            "Finish training\n"
          ],
          "name": "stdout"
        }
      ]
    },
    {
      "cell_type": "code",
      "metadata": {
        "id": "JDVHPKwdBRx9",
        "colab_type": "code",
        "outputId": "78236a50-6dff-4f41-f0bd-66c7ca20b30b",
        "colab": {
          "base_uri": "https://localhost:8080/",
          "height": 51
        }
      },
      "source": [
        "def get_quality(net):\n",
        "  correct = 0\n",
        "  total = 0\n",
        "  with torch.no_grad():\n",
        "    for data in testloader:\n",
        "      images, labels = data\n",
        "      #images, labels = images.cuda(), labels.cuda()\n",
        "      outputs = net(images)\n",
        "      _, predicted = torch.max(outputs.data, 1)\n",
        "      total += labels.size(0)\n",
        "      correct += (predicted == labels).sum().item()\n",
        "\n",
        "  print(\"Accuracy of the network on test images: %d %%\" % (100 * correct / total))\n",
        "\n",
        "get_quality(net)\n",
        "get_quality(net2)"
      ],
      "execution_count": 0,
      "outputs": [
        {
          "output_type": "stream",
          "text": [
            "Accuracy of the network on test images: 30 %\n",
            "Accuracy of the network on test images: 9 %\n"
          ],
          "name": "stdout"
        }
      ]
    }
  ]
}